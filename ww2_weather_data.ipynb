{
  "nbformat": 4,
  "nbformat_minor": 0,
  "metadata": {
    "colab": {
      "name": "ww2_weather_data.ipynb",
      "version": "0.3.2",
      "provenance": [],
      "include_colab_link": true
    },
    "kernelspec": {
      "name": "python3",
      "display_name": "Python 3"
    },
    "accelerator": "GPU"
  },
  "cells": [
    {
      "cell_type": "markdown",
      "metadata": {
        "id": "view-in-github",
        "colab_type": "text"
      },
      "source": [
        "[View in Colaboratory](https://colab.research.google.com/github/Yashwardhankaul/ww2_data_visualization/blob/master/ww2_weather_data.ipynb)"
      ]
    },
    {
      "metadata": {
        "id": "0DrDjdh54eBH",
        "colab_type": "code",
        "colab": {}
      },
      "cell_type": "code",
      "source": [
        "import pandas as pd"
      ],
      "execution_count": 0,
      "outputs": []
    },
    {
      "metadata": {
        "id": "OL6rvRSI4jHS",
        "colab_type": "code",
        "colab": {}
      },
      "cell_type": "code",
      "source": [
        "import requests"
      ],
      "execution_count": 0,
      "outputs": []
    },
    {
      "metadata": {
        "id": "aSQN_ZeS4mEj",
        "colab_type": "code",
        "colab": {
          "resources": {
            "http://localhost:8080/nbextensions/google.colab/files.js": {
              "data": "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",
              "ok": true,
              "headers": [
                [
                  "content-type",
                  "application/javascript"
                ]
              ],
              "status": 200,
              "status_text": ""
            }
          },
          "base_uri": "https://localhost:8080/",
          "height": 517
        },
        "outputId": "b78f4ed5-d8ec-4f2a-add6-0a16ca449f78"
      },
      "cell_type": "code",
      "source": [
        "!pip install kaggle\n",
        "from google.colab import files\n",
        "files.upload()"
      ],
      "execution_count": 10,
      "outputs": [
        {
          "output_type": "stream",
          "text": [
            "Collecting kaggle\n",
            "\u001b[?25l  Downloading https://files.pythonhosted.org/packages/c6/78/832b9a9ec6b3baf8ec566e1f0a695f2fd08d2c94a6797257a106304bfc3c/kaggle-1.4.7.1.tar.gz (52kB)\n",
            "\u001b[K    100% |████████████████████████████████| 61kB 2.9MB/s \n",
            "\u001b[?25hRequirement already satisfied: urllib3<1.23.0,>=1.15 in /usr/local/lib/python3.6/dist-packages (from kaggle) (1.22)\n",
            "Requirement already satisfied: six>=1.10 in /usr/local/lib/python3.6/dist-packages (from kaggle) (1.11.0)\n",
            "Requirement already satisfied: certifi in /usr/local/lib/python3.6/dist-packages (from kaggle) (2018.8.24)\n",
            "Requirement already satisfied: python-dateutil in /usr/local/lib/python3.6/dist-packages (from kaggle) (2.5.3)\n",
            "Requirement already satisfied: requests in /usr/local/lib/python3.6/dist-packages (from kaggle) (2.18.4)\n",
            "Requirement already satisfied: tqdm in /usr/local/lib/python3.6/dist-packages (from kaggle) (4.25.0)\n",
            "Collecting python-slugify (from kaggle)\n",
            "  Downloading https://files.pythonhosted.org/packages/00/ad/c778a6df614b6217c30fe80045b365bfa08b5dd3cb02e8b37a6d25126781/python-slugify-1.2.6.tar.gz\n",
            "Requirement already satisfied: idna<2.7,>=2.5 in /usr/local/lib/python3.6/dist-packages (from requests->kaggle) (2.6)\n",
            "Requirement already satisfied: chardet<3.1.0,>=3.0.2 in /usr/local/lib/python3.6/dist-packages (from requests->kaggle) (3.0.4)\n",
            "Collecting Unidecode>=0.04.16 (from python-slugify->kaggle)\n",
            "\u001b[?25l  Downloading https://files.pythonhosted.org/packages/59/ef/67085e30e8bbcdd76e2f0a4ad8151c13a2c5bce77c85f8cad6e1f16fb141/Unidecode-1.0.22-py2.py3-none-any.whl (235kB)\n",
            "\u001b[K    100% |████████████████████████████████| 235kB 5.8MB/s \n",
            "\u001b[?25hBuilding wheels for collected packages: kaggle, python-slugify\n",
            "  Running setup.py bdist_wheel for kaggle ... \u001b[?25l-\b \b\\\b \bdone\n",
            "\u001b[?25h  Stored in directory: /root/.cache/pip/wheels/44/2c/df/22a6eeb780c36c28190faef6252b739fdc47145fd87a6642d4\n",
            "  Running setup.py bdist_wheel for python-slugify ... \u001b[?25l-\b \bdone\n",
            "\u001b[?25h  Stored in directory: /root/.cache/pip/wheels/e3/65/da/2045deea3098ed7471eca0e2460cfbd3fdfe8c1d6fa6fcac92\n",
            "Successfully built kaggle python-slugify\n",
            "Installing collected packages: Unidecode, python-slugify, kaggle\n",
            "Successfully installed Unidecode-1.0.22 kaggle-1.4.7.1 python-slugify-1.2.6\n"
          ],
          "name": "stdout"
        },
        {
          "output_type": "display_data",
          "data": {
            "text/html": [
              "\n",
              "     <input type=\"file\" id=\"files-1f0af555-39bd-4bdb-b38a-4ed69a835ed7\" name=\"files[]\" multiple disabled />\n",
              "     <output id=\"result-1f0af555-39bd-4bdb-b38a-4ed69a835ed7\">\n",
              "      Upload widget is only available when the cell has been executed in the\n",
              "      current browser session. Please rerun this cell to enable.\n",
              "      </output>\n",
              "      <script src=\"/nbextensions/google.colab/files.js\"></script> "
            ],
            "text/plain": [
              "<IPython.core.display.HTML object>"
            ]
          },
          "metadata": {
            "tags": []
          }
        },
        {
          "output_type": "stream",
          "text": [
            "Saving kaggle.json to kaggle.json\n"
          ],
          "name": "stdout"
        },
        {
          "output_type": "execute_result",
          "data": {
            "text/plain": [
              "{'kaggle.json': b'{\"username\":\"yashwardhankaul\",\"key\":\"9ac9612f45bb02efaf46f63982591058\"}'}"
            ]
          },
          "metadata": {
            "tags": []
          },
          "execution_count": 10
        }
      ]
    },
    {
      "metadata": {
        "id": "w34-LNpj4tL0",
        "colab_type": "code",
        "colab": {}
      },
      "cell_type": "code",
      "source": [
        "!mkdir -p ~/.kaggle\n",
        "!cp kaggle.json ~/.kaggle/\n",
        "\n",
        "# This permissions change avoids a warning on Kaggle tool startup.\n",
        "!chmod 600 ~/.kaggle/kaggle.json"
      ],
      "execution_count": 0,
      "outputs": []
    },
    {
      "metadata": {
        "id": "GycG37UL5p_2",
        "colab_type": "code",
        "colab": {
          "base_uri": "https://localhost:8080/",
          "height": 68
        },
        "outputId": "d746d5fc-80b9-4a60-a070-92891fd7d71b"
      },
      "cell_type": "code",
      "source": [
        "!kaggle datasets download -d smid80/weatherww2"
      ],
      "execution_count": 12,
      "outputs": [
        {
          "output_type": "stream",
          "text": [
            "Downloading weatherww2.zip to /content\n",
            "\r  0% 0.00/1.65M [00:00<?, ?B/s]\n",
            "\r100% 1.65M/1.65M [00:00<00:00, 91.0MB/s]\n"
          ],
          "name": "stdout"
        }
      ]
    },
    {
      "metadata": {
        "id": "6HIC6Wiu5w4f",
        "colab_type": "code",
        "colab": {
          "base_uri": "https://localhost:8080/",
          "height": 34
        },
        "outputId": "5b018432-6cb0-4bd3-fb66-ba3e3f012f8d"
      },
      "cell_type": "code",
      "source": [
        "!ls\n"
      ],
      "execution_count": 14,
      "outputs": [
        {
          "output_type": "stream",
          "text": [
            "kaggle.json  sample_data  weatherww2.zip\n"
          ],
          "name": "stdout"
        }
      ]
    },
    {
      "metadata": {
        "id": "mg9cutEO52tE",
        "colab_type": "code",
        "colab": {
          "base_uri": "https://localhost:8080/",
          "height": 68
        },
        "outputId": "7624a94a-c8e0-4095-e5d6-a92ffa88ba28"
      },
      "cell_type": "code",
      "source": [
        "!unzip weatherww2.zip"
      ],
      "execution_count": 15,
      "outputs": [
        {
          "output_type": "stream",
          "text": [
            "Archive:  weatherww2.zip\n",
            "  inflating: Summary of Weather.csv  \n",
            "  inflating: Weather Station Locations.csv  \n"
          ],
          "name": "stdout"
        }
      ]
    },
    {
      "metadata": {
        "id": "83ehHiq96JXi",
        "colab_type": "code",
        "colab": {
          "base_uri": "https://localhost:8080/",
          "height": 51
        },
        "outputId": "ece21c3c-e0b7-4622-baff-1459926e24ae"
      },
      "cell_type": "code",
      "source": [
        "!ls"
      ],
      "execution_count": 16,
      "outputs": [
        {
          "output_type": "stream",
          "text": [
            "kaggle.json  Summary of Weather.csv\t    weatherww2.zip\n",
            "sample_data  Weather Station Locations.csv\n"
          ],
          "name": "stdout"
        }
      ]
    },
    {
      "metadata": {
        "id": "Fj96nEjV6kQ8",
        "colab_type": "code",
        "colab": {
          "base_uri": "https://localhost:8080/",
          "height": 2176
        },
        "outputId": "7421c98a-0bda-4347-a183-0eb2de6ffa00"
      },
      "cell_type": "code",
      "source": [
        "station_loc = pd.read_csv('Weather Station Locations.csv')\n",
        "s_l = pd.DataFrame(station_loc)\n",
        "print (s_l)"
      ],
      "execution_count": 17,
      "outputs": [
        {
          "output_type": "stream",
          "text": [
            "      WBAN                         NAME STATE/COUNTRY ID    LAT     LON  ELEV  \\\n",
            "0    33013                       AIN EL               AL  3623N  00637E   611   \n",
            "1    33031                     LA SENIA               AL  3537N  00037E    88   \n",
            "2    33023               MAISON BLANCHE               AL  3643N  00314E    23   \n",
            "3    33044                     TELERGMA               AL  3607N  00621E   754   \n",
            "4    12001                      TINDOUF               AL  2741N  00809W   443   \n",
            "5    11604      ST JOHNS/COOLIDGE FIELD               AT  1707N  06147W    10   \n",
            "6    82502                      AMBERLY               AU  2736S  15243E    27   \n",
            "7    82501                       ARCHER               AU  2735S  15301E    19   \n",
            "8    82506                     BRISBANE               AU  2726S  15305E     2   \n",
            "9    82402                  CHARLEVILLE               AU  2625S  14616E   300   \n",
            "10   82403                    CLONCURRY               AU  2041S  14030E   188   \n",
            "11   81404                  HORN ISLAND               AU  1036S  14218E    12   \n",
            "12   82404                    LONGREACH               AU  2327S  14408E   187   \n",
            "13   82405                       MACKAY               AU  2110S  14910E     8   \n",
            "14   82503                  ROCKHAMPTON               AU  2324S  15030E    13   \n",
            "15   13201                        LAJES               AZ  3846N  02706W    55   \n",
            "16   12706           GREAT EXUMA ISLAND               BA  2331N  07547W    19   \n",
            "17   13601                      BERMUDA               BE  3222N  06441W     6   \n",
            "18   32503               BAHREIN ISLAND               BN  2616N  05038E     1   \n",
            "19   11501               CHRISTS CHURCH               BR  1304N  05930W    55   \n",
            "20   10505                  CLEVELANDIA               BZ  0352N  05149W    29   \n",
            "21   50301          FERNANDO DE NORONHA               BZ  0350S  03225W    38   \n",
            "22   50302                    FORTALEZA               BZ  0346S  03833W    23   \n",
            "23   50304                   PARNAMIRIM               BZ  0554S  03515W    50   \n",
            "24   50303                       RECIFE               BZ  0807S  03455W     9   \n",
            "25   50403                     SAO LUIZ               BZ  0235S  04414W    47   \n",
            "26   50401                  VAL DE CANS               BZ  0123S  04829W    13   \n",
            "27   10807                      PARRITA               CS  0931N  08420W     6   \n",
            "28   10806                     SAN JOSE               CS  0954N  08408W  1132   \n",
            "29   60701                CANTON ISLAND               CT  0246S  17143W     3   \n",
            "..     ...                          ...              ...    ...     ...   ...   \n",
            "131  42401                  IWO JIMA/AB               PI  2447N  14119E   114   \n",
            "132  40601                KWAJALEIN/AFB               PI  0843N  16744E     3   \n",
            "133  20602  PALMYRA ISLAND/LINE ISLANDS               PI  0553N  16205W     2   \n",
            "134  32603                      BHOLARI               PK  2519N  06812E    53   \n",
            "135  32602                       JIWANI               PK  2504N  06148E    56   \n",
            "136  32601                      KARACHI               PK  2454N  06711E    21   \n",
            "137  10701               BALBOA/ALBROOK               PM  0858N  07933W     9   \n",
            "138  10804                        DAVID               PM  0823N  08226W    23   \n",
            "139  10718                   FORT KOBBE               PM  0855N  07936W    16   \n",
            "140  10705                       HOWARD               PM  0855N  07936W    10   \n",
            "141  10704                        JAQUE               PM  0730N  07810W     5   \n",
            "142  10802                        POCRI               PM  0744N  08008W    14   \n",
            "143  10703                   REY ISLAND               PM  0814N  07854W    24   \n",
            "144  10803                     RIO HATO               PM  0822N  08008W    22   \n",
            "145  15605             KUUJJAUQ/AIRPORT               PQ  5806N  06825W   816   \n",
            "146  15604                       MINGAN               PQ  5017N  06410W    23   \n",
            "147  50802                       TALARA               PR  0432S  08114W    88   \n",
            "148  11101            DAKAR/EKNES FIELD               SG  1443N  01714W    22   \n",
            "149  11103          DAKAR/MALLARD FIELD               SG  1445N  01730W    21   \n",
            "150  80510                   BANIKA/AAF               SO  0904S  15914E    18   \n",
            "151  80504                    MUNDA/AAF               SO  0820S  15716E     8   \n",
            "152  34018                       ISTRES               SP  4330N  00457E    24   \n",
            "153  11610                   WALLER/BWI               TD  1037N  06113W    41   \n",
            "154  12702          SOUTH CAICOS ISLAND               TI  2129N  07131W     4   \n",
            "155  62701             TONGATABU ISLAND               TO  2115S  17508W    30   \n",
            "156  33109                    EL AQUINA               TS  3651N  01015E     4   \n",
            "157  33121                      EL DJEM               TS  3520N  01040E  9999   \n",
            "158  33003                   SISI AHMED               TS  3712N  00950E     4   \n",
            "159  33307                        ADANA               TU  3659N  03518E    20   \n",
            "160  15027                   WARRINGTON               UK  5323N  00239W    27   \n",
            "\n",
            "      Latitude   Longitude  \n",
            "0    36.383333    6.650000  \n",
            "1    35.616667    0.583333  \n",
            "2    36.716667    3.216667  \n",
            "3    36.116667    6.416667  \n",
            "4    27.683333   -8.083333  \n",
            "5    17.116667  -61.733333  \n",
            "6   -27.600000  152.816667  \n",
            "7   -27.583333  153.000000  \n",
            "8   -27.433333  153.133333  \n",
            "9   -26.416667  146.216667  \n",
            "10  -20.683333  140.583333  \n",
            "11  -10.600000  142.166667  \n",
            "12  -23.450000  144.066667  \n",
            "13  -21.166667  149.300000  \n",
            "14  -23.400000  150.533333  \n",
            "15   38.766667  -27.033333  \n",
            "16   23.516667  -75.733333  \n",
            "17   32.366667  -64.666667  \n",
            "18   26.266667   50.566667  \n",
            "19   13.066667  -59.583333  \n",
            "20    3.866667  -51.750000  \n",
            "21   -3.833333  -32.483333  \n",
            "22   -3.766667  -38.616667  \n",
            "23   -5.900000  -35.300000  \n",
            "24   -8.116667  -34.883333  \n",
            "25   -2.583333  -44.233333  \n",
            "26   -1.383333  -48.366667  \n",
            "27    9.516667  -84.450000  \n",
            "28    9.900000  -84.000000  \n",
            "29   -2.766667 -171.750000  \n",
            "..         ...         ...  \n",
            "131  24.783333  141.266667  \n",
            "132   8.716667  167.783333  \n",
            "133   5.883333 -162.050000  \n",
            "134  25.316667   68.183333  \n",
            "135  25.066667   61.800000  \n",
            "136  24.900000   67.250000  \n",
            "137   8.966667  -79.500000  \n",
            "138   8.383333  -82.333333  \n",
            "139   8.916667  -79.633333  \n",
            "140   8.916667  -79.650000  \n",
            "141   7.500000  -78.016667  \n",
            "142   7.733333  -80.000000  \n",
            "143   8.233333  -78.083333  \n",
            "144   8.366667  -80.000000  \n",
            "145  58.100000  -68.033333  \n",
            "146  50.283333  -64.016667  \n",
            "147  -4.533333  -81.016667  \n",
            "148  14.716667  -17.016667  \n",
            "149  14.750000  -17.050000  \n",
            "150  -9.066667  159.016667  \n",
            "151  -8.333333  157.016667  \n",
            "152  43.500000    4.083333  \n",
            "153  10.616667  -61.016667  \n",
            "154  21.483333  -71.050000  \n",
            "155 -21.250000 -175.000000  \n",
            "156  36.850000   10.016667  \n",
            "157  35.333333   10.066667  \n",
            "158  37.200000    9.083333  \n",
            "159  36.983333   35.016667  \n",
            "160  53.383333   -2.050000  \n",
            "\n",
            "[161 rows x 8 columns]\n"
          ],
          "name": "stdout"
        }
      ]
    },
    {
      "metadata": {
        "id": "gxqzxnpI6-Ec",
        "colab_type": "code",
        "colab": {
          "base_uri": "https://localhost:8080/",
          "height": 3315
        },
        "outputId": "b2bab92f-538a-4d06-cbd3-19fafdcfb646"
      },
      "cell_type": "code",
      "source": [
        "weather = pd.read_csv('Summary of Weather.csv')\n",
        "w = pd.DataFrame(weather)\n",
        "print (w)"
      ],
      "execution_count": 18,
      "outputs": [
        {
          "output_type": "stream",
          "text": [
            "          STA        Date  Precip  WindGustSpd    MaxTemp    MinTemp  \\\n",
            "0       10001    1942-7-1   1.016          NaN  25.555556  22.222222   \n",
            "1       10001    1942-7-2       0          NaN  28.888889  21.666667   \n",
            "2       10001    1942-7-3    2.54          NaN  26.111111  22.222222   \n",
            "3       10001    1942-7-4    2.54          NaN  26.666667  22.222222   \n",
            "4       10001    1942-7-5       0          NaN  26.666667  21.666667   \n",
            "5       10001    1942-7-6       0          NaN  26.666667  21.666667   \n",
            "6       10001    1942-7-7       T          NaN  28.333333  22.777778   \n",
            "7       10001    1942-7-8   3.556          NaN  26.666667  22.222222   \n",
            "8       10001    1942-7-9       T          NaN  27.222222  22.777778   \n",
            "9       10001   1942-7-10   3.556          NaN  25.555556  21.666667   \n",
            "10      10001   1942-7-11       0          NaN  25.555556  21.666667   \n",
            "11      10001   1942-7-12   0.508          NaN  24.444444  22.222222   \n",
            "12      10001   1942-7-13       0          NaN  26.111111  21.666667   \n",
            "13      10001   1942-7-14       0          NaN  26.111111  22.222222   \n",
            "14      10001   1942-7-15       0          NaN  25.555556  22.777778   \n",
            "15      10001   1942-7-16       T          NaN  26.111111  21.111111   \n",
            "16      10001   1942-7-17       T          NaN  28.333333  22.222222   \n",
            "17      10001   1942-7-18       T          NaN  26.666667  21.111111   \n",
            "18      10001   1942-7-19       0          NaN  27.777778  21.666667   \n",
            "19      10001   1942-7-20       0          NaN  26.111111  20.000000   \n",
            "20      10001   1942-7-21       T          NaN  24.444444  21.666667   \n",
            "21      10001   1942-7-22       T          NaN  24.444444  21.111111   \n",
            "22      10001   1942-7-23       0          NaN  26.666667  20.555556   \n",
            "23      10001   1942-7-24       0          NaN  27.222222  18.888889   \n",
            "24      10001   1942-7-25       0          NaN  27.222222  19.444444   \n",
            "25      10001   1942-7-26       0          NaN  25.555556  19.444444   \n",
            "26      10001   1942-7-27       0          NaN  25.555556  19.444444   \n",
            "27      10001   1942-7-28       0          NaN  26.666667  19.444444   \n",
            "28      10001   1942-7-29       0          NaN  26.666667  19.444444   \n",
            "29      10001   1942-7-30       0          NaN  27.222222  19.444444   \n",
            "...       ...         ...     ...          ...        ...        ...   \n",
            "119010  82506   1945-12-2  24.384          NaN  28.333333  18.888889   \n",
            "119011  82506   1945-12-3   0.762          NaN  27.777778  18.333333   \n",
            "119012  82506   1945-12-4  36.068          NaN  29.444444  17.777778   \n",
            "119013  82506   1945-12-5  12.446          NaN  21.111111  17.222222   \n",
            "119014  82506   1945-12-6       T          NaN  27.222222  17.777778   \n",
            "119015  82506   1945-12-7       0          NaN  27.222222  17.222222   \n",
            "119016  82506   1945-12-8   0.762          NaN  26.111111  19.444444   \n",
            "119017  82506   1945-12-9       0          NaN  30.555556  19.444444   \n",
            "119018  82506  1945-12-10       T          NaN  30.000000  19.444444   \n",
            "119019  82506  1945-12-11   0.254          NaN  28.888889  22.777778   \n",
            "119020  82506  1945-12-12       0          NaN  30.555556  22.222222   \n",
            "119021  82506  1945-12-13  19.304          NaN  32.222222  20.000000   \n",
            "119022  82506  1945-12-14       0          NaN  31.111111  20.555556   \n",
            "119023  82506  1945-12-15   0.762          NaN  30.555556  20.555556   \n",
            "119024  82506  1945-12-16       0          NaN  29.444444  21.666667   \n",
            "119025  82506  1945-12-17       0          NaN  28.888889  21.111111   \n",
            "119026  82506  1945-12-18  19.812          NaN  30.555556  19.444444   \n",
            "119027  82506  1945-12-19   10.16          NaN  25.555556  18.888889   \n",
            "119028  82506  1945-12-20       0          NaN  26.666667  17.777778   \n",
            "119029  82506  1945-12-21       0          NaN  28.888889  18.888889   \n",
            "119030  82506  1945-12-22       0          NaN  28.888889  17.222222   \n",
            "119031  82506  1945-12-23       T          NaN  28.333333  18.333333   \n",
            "119032  82506  1945-12-24       0          NaN  28.333333  20.000000   \n",
            "119033  82506  1945-12-25   0.508          NaN  28.888889  18.888889   \n",
            "119034  82506  1945-12-26       0          NaN  29.444444  18.888889   \n",
            "119035  82506  1945-12-27       0          NaN  28.333333  18.333333   \n",
            "119036  82506  1945-12-28   9.906          NaN  29.444444  18.333333   \n",
            "119037  82506  1945-12-29       0          NaN  28.333333  18.333333   \n",
            "119038  82506  1945-12-30       0          NaN  28.333333  18.333333   \n",
            "119039  82506  1945-12-31       0          NaN  29.444444  17.222222   \n",
            "\n",
            "         MeanTemp Snowfall PoorWeather  YR ...   FB  FTI ITH  PGT  TSHDSBRSGF  \\\n",
            "0       23.888889        0         NaN  42 ...  NaN  NaN NaN  NaN         NaN   \n",
            "1       25.555556        0         NaN  42 ...  NaN  NaN NaN  NaN         NaN   \n",
            "2       24.444444        0         NaN  42 ...  NaN  NaN NaN  NaN         NaN   \n",
            "3       24.444444        0         NaN  42 ...  NaN  NaN NaN  NaN         NaN   \n",
            "4       24.444444        0         NaN  42 ...  NaN  NaN NaN  NaN         NaN   \n",
            "5       24.444444        0         NaN  42 ...  NaN  NaN NaN  NaN         NaN   \n",
            "6       25.555556        0         NaN  42 ...  NaN  NaN NaN  NaN         NaN   \n",
            "7       24.444444        0         NaN  42 ...  NaN  NaN NaN  NaN         NaN   \n",
            "8       25.000000        0         NaN  42 ...  NaN  NaN NaN  NaN         NaN   \n",
            "9       23.333333        0         NaN  42 ...  NaN  NaN NaN  NaN         NaN   \n",
            "10      23.333333        0         NaN  42 ...  NaN  NaN NaN  NaN         NaN   \n",
            "11      23.333333        0         NaN  42 ...  NaN  NaN NaN  NaN         NaN   \n",
            "12      23.888889        0         NaN  42 ...  NaN  NaN NaN  NaN         NaN   \n",
            "13      24.444444        0         NaN  42 ...  NaN  NaN NaN  NaN         NaN   \n",
            "14      24.444444        0         NaN  42 ...  NaN  NaN NaN  NaN         NaN   \n",
            "15      23.333333        0         NaN  42 ...  NaN  NaN NaN  NaN         NaN   \n",
            "16      25.555556        0         NaN  42 ...  NaN  NaN NaN  NaN         NaN   \n",
            "17      23.888889        0         NaN  42 ...  NaN  NaN NaN  NaN         NaN   \n",
            "18      24.444444        0         NaN  42 ...  NaN  NaN NaN  NaN         NaN   \n",
            "19      23.333333        0         NaN  42 ...  NaN  NaN NaN  NaN         NaN   \n",
            "20      23.333333        0         NaN  42 ...  NaN  NaN NaN  NaN         NaN   \n",
            "21      22.777778        0         NaN  42 ...  NaN  NaN NaN  NaN         NaN   \n",
            "22      23.333333        0         NaN  42 ...  NaN  NaN NaN  NaN         NaN   \n",
            "23      23.333333        0         NaN  42 ...  NaN  NaN NaN  NaN         NaN   \n",
            "24      23.333333        0         NaN  42 ...  NaN  NaN NaN  NaN         NaN   \n",
            "25      22.222222        0         NaN  42 ...  NaN  NaN NaN  NaN         NaN   \n",
            "26      22.777778        0         NaN  42 ...  NaN  NaN NaN  NaN         NaN   \n",
            "27      23.333333        0         NaN  42 ...  NaN  NaN NaN  NaN         NaN   \n",
            "28      23.333333        0         NaN  42 ...  NaN  NaN NaN  NaN         NaN   \n",
            "29      23.333333        0         NaN  42 ...  NaN  NaN NaN  NaN         NaN   \n",
            "...           ...      ...         ...  .. ...   ..  ...  ..  ...         ...   \n",
            "119010  23.333333        0           1  45 ...  NaN  NaN NaN  NaN           1   \n",
            "119011  23.333333        0           1  45 ...  NaN  NaN NaN  NaN           1   \n",
            "119012  23.333333        0           1  45 ...  NaN  NaN NaN  NaN           1   \n",
            "119013  18.888889        0           1  45 ...  NaN  NaN NaN  NaN           1   \n",
            "119014  22.222222        0           1  45 ...  NaN  NaN NaN  NaN           1   \n",
            "119015  22.222222        0         NaN  45 ...  NaN  NaN NaN  NaN         NaN   \n",
            "119016  22.777778        0           1  45 ...  NaN  NaN NaN  NaN           1   \n",
            "119017  25.000000        0         NaN  45 ...  NaN  NaN NaN  NaN         NaN   \n",
            "119018  24.444444        0         NaN  45 ...  NaN  NaN NaN  NaN         NaN   \n",
            "119019  25.555556        0           1  45 ...  NaN  NaN NaN  NaN           1   \n",
            "119020  26.666667        0         NaN  45 ...  NaN  NaN NaN  NaN         NaN   \n",
            "119021  26.111111        0           1  45 ...  NaN  NaN NaN  NaN           1   \n",
            "119022  25.555556        0         NaN  45 ...  NaN  NaN NaN  NaN         NaN   \n",
            "119023  25.555556        0           1  45 ...  NaN  NaN NaN  NaN           1   \n",
            "119024  25.555556        0         NaN  45 ...  NaN  NaN NaN  NaN         NaN   \n",
            "119025  25.000000        0         NaN  45 ...  NaN  NaN NaN  NaN         NaN   \n",
            "119026  25.000000        0           1  45 ...  NaN  NaN NaN  NaN           1   \n",
            "119027  22.222222        0           1  45 ...  NaN  NaN NaN  NaN           1   \n",
            "119028  22.222222        0         NaN  45 ...  NaN  NaN NaN  NaN         NaN   \n",
            "119029  23.888889        0         NaN  45 ...  NaN  NaN NaN  NaN         NaN   \n",
            "119030  23.333333        0         NaN  45 ...  NaN  NaN NaN  NaN         NaN   \n",
            "119031  23.333333        0           1  45 ...  NaN  NaN NaN  NaN           1   \n",
            "119032  24.444444        0         NaN  45 ...  NaN  NaN NaN  NaN         NaN   \n",
            "119033  23.888889        0           1  45 ...  NaN  NaN NaN  NaN           1   \n",
            "119034  24.444444        0         NaN  45 ...  NaN  NaN NaN  NaN         NaN   \n",
            "119035  23.333333        0         NaN  45 ...  NaN  NaN NaN  NaN         NaN   \n",
            "119036  23.888889        0           1  45 ...  NaN  NaN NaN  NaN           1   \n",
            "119037  23.333333        0           1  45 ...  NaN  NaN NaN  NaN           1   \n",
            "119038  23.333333        0         NaN  45 ...  NaN  NaN NaN  NaN         NaN   \n",
            "119039  23.333333        0         NaN  45 ...  NaN  NaN NaN  NaN         NaN   \n",
            "\n",
            "        SD3  RHX  RHN RVG  WTE  \n",
            "0       NaN  NaN  NaN NaN  NaN  \n",
            "1       NaN  NaN  NaN NaN  NaN  \n",
            "2       NaN  NaN  NaN NaN  NaN  \n",
            "3       NaN  NaN  NaN NaN  NaN  \n",
            "4       NaN  NaN  NaN NaN  NaN  \n",
            "5       NaN  NaN  NaN NaN  NaN  \n",
            "6       NaN  NaN  NaN NaN  NaN  \n",
            "7       NaN  NaN  NaN NaN  NaN  \n",
            "8       NaN  NaN  NaN NaN  NaN  \n",
            "9       NaN  NaN  NaN NaN  NaN  \n",
            "10      NaN  NaN  NaN NaN  NaN  \n",
            "11      NaN  NaN  NaN NaN  NaN  \n",
            "12      NaN  NaN  NaN NaN  NaN  \n",
            "13      NaN  NaN  NaN NaN  NaN  \n",
            "14      NaN  NaN  NaN NaN  NaN  \n",
            "15      NaN  NaN  NaN NaN  NaN  \n",
            "16      NaN  NaN  NaN NaN  NaN  \n",
            "17      NaN  NaN  NaN NaN  NaN  \n",
            "18      NaN  NaN  NaN NaN  NaN  \n",
            "19      NaN  NaN  NaN NaN  NaN  \n",
            "20      NaN  NaN  NaN NaN  NaN  \n",
            "21      NaN  NaN  NaN NaN  NaN  \n",
            "22      NaN  NaN  NaN NaN  NaN  \n",
            "23      NaN  NaN  NaN NaN  NaN  \n",
            "24      NaN  NaN  NaN NaN  NaN  \n",
            "25      NaN  NaN  NaN NaN  NaN  \n",
            "26      NaN  NaN  NaN NaN  NaN  \n",
            "27      NaN  NaN  NaN NaN  NaN  \n",
            "28      NaN  NaN  NaN NaN  NaN  \n",
            "29      NaN  NaN  NaN NaN  NaN  \n",
            "...     ...  ...  ...  ..  ...  \n",
            "119010  NaN  NaN  NaN NaN  NaN  \n",
            "119011  NaN  NaN  NaN NaN  NaN  \n",
            "119012  NaN  NaN  NaN NaN  NaN  \n",
            "119013  NaN  NaN  NaN NaN  NaN  \n",
            "119014  NaN  NaN  NaN NaN  NaN  \n",
            "119015  NaN  NaN  NaN NaN  NaN  \n",
            "119016  NaN  NaN  NaN NaN  NaN  \n",
            "119017  NaN  NaN  NaN NaN  NaN  \n",
            "119018  NaN  NaN  NaN NaN  NaN  \n",
            "119019  NaN  NaN  NaN NaN  NaN  \n",
            "119020  NaN  NaN  NaN NaN  NaN  \n",
            "119021  NaN  NaN  NaN NaN  NaN  \n",
            "119022  NaN  NaN  NaN NaN  NaN  \n",
            "119023  NaN  NaN  NaN NaN  NaN  \n",
            "119024  NaN  NaN  NaN NaN  NaN  \n",
            "119025  NaN  NaN  NaN NaN  NaN  \n",
            "119026  NaN  NaN  NaN NaN  NaN  \n",
            "119027  NaN  NaN  NaN NaN  NaN  \n",
            "119028  NaN  NaN  NaN NaN  NaN  \n",
            "119029  NaN  NaN  NaN NaN  NaN  \n",
            "119030  NaN  NaN  NaN NaN  NaN  \n",
            "119031  NaN  NaN  NaN NaN  NaN  \n",
            "119032  NaN  NaN  NaN NaN  NaN  \n",
            "119033  NaN  NaN  NaN NaN  NaN  \n",
            "119034  NaN  NaN  NaN NaN  NaN  \n",
            "119035  NaN  NaN  NaN NaN  NaN  \n",
            "119036  NaN  NaN  NaN NaN  NaN  \n",
            "119037  NaN  NaN  NaN NaN  NaN  \n",
            "119038  NaN  NaN  NaN NaN  NaN  \n",
            "119039  NaN  NaN  NaN NaN  NaN  \n",
            "\n",
            "[119040 rows x 31 columns]\n"
          ],
          "name": "stdout"
        },
        {
          "output_type": "stream",
          "text": [
            "/usr/local/lib/python3.6/dist-packages/IPython/core/interactiveshell.py:2718: DtypeWarning:\n",
            "\n",
            "Columns (7,8,18,25) have mixed types. Specify dtype option on import or set low_memory=False.\n",
            "\n"
          ],
          "name": "stderr"
        }
      ]
    },
    {
      "metadata": {
        "id": "_M1wAD__7ZG2",
        "colab_type": "code",
        "colab": {
          "base_uri": "https://localhost:8080/",
          "height": 297
        },
        "outputId": "8bf6f41d-e226-47af-df88-c9fdda576a3a"
      },
      "cell_type": "code",
      "source": [
        "s_l.describe()"
      ],
      "execution_count": 19,
      "outputs": [
        {
          "output_type": "execute_result",
          "data": {
            "text/html": [
              "<div>\n",
              "<style scoped>\n",
              "    .dataframe tbody tr th:only-of-type {\n",
              "        vertical-align: middle;\n",
              "    }\n",
              "\n",
              "    .dataframe tbody tr th {\n",
              "        vertical-align: top;\n",
              "    }\n",
              "\n",
              "    .dataframe thead th {\n",
              "        text-align: right;\n",
              "    }\n",
              "</style>\n",
              "<table border=\"1\" class=\"dataframe\">\n",
              "  <thead>\n",
              "    <tr style=\"text-align: right;\">\n",
              "      <th></th>\n",
              "      <th>WBAN</th>\n",
              "      <th>ELEV</th>\n",
              "      <th>Latitude</th>\n",
              "      <th>Longitude</th>\n",
              "    </tr>\n",
              "  </thead>\n",
              "  <tbody>\n",
              "    <tr>\n",
              "      <th>count</th>\n",
              "      <td>161.000000</td>\n",
              "      <td>161.000000</td>\n",
              "      <td>161.000000</td>\n",
              "      <td>161.000000</td>\n",
              "    </tr>\n",
              "    <tr>\n",
              "      <th>mean</th>\n",
              "      <td>33421.440994</td>\n",
              "      <td>439.850932</td>\n",
              "      <td>20.347205</td>\n",
              "      <td>8.364182</td>\n",
              "    </tr>\n",
              "    <tr>\n",
              "      <th>std</th>\n",
              "      <td>20826.534394</td>\n",
              "      <td>1745.422339</td>\n",
              "      <td>21.042992</td>\n",
              "      <td>87.420419</td>\n",
              "    </tr>\n",
              "    <tr>\n",
              "      <th>min</th>\n",
              "      <td>10001.000000</td>\n",
              "      <td>1.000000</td>\n",
              "      <td>-27.600000</td>\n",
              "      <td>-175.000000</td>\n",
              "    </tr>\n",
              "    <tr>\n",
              "      <th>25%</th>\n",
              "      <td>13601.000000</td>\n",
              "      <td>9.000000</td>\n",
              "      <td>8.233333</td>\n",
              "      <td>-60.850000</td>\n",
              "    </tr>\n",
              "    <tr>\n",
              "      <th>50%</th>\n",
              "      <td>32906.000000</td>\n",
              "      <td>27.000000</td>\n",
              "      <td>22.333333</td>\n",
              "      <td>9.083333</td>\n",
              "    </tr>\n",
              "    <tr>\n",
              "      <th>75%</th>\n",
              "      <td>34150.000000</td>\n",
              "      <td>98.000000</td>\n",
              "      <td>36.116667</td>\n",
              "      <td>67.250000</td>\n",
              "    </tr>\n",
              "    <tr>\n",
              "      <th>max</th>\n",
              "      <td>82506.000000</td>\n",
              "      <td>9999.000000</td>\n",
              "      <td>67.016667</td>\n",
              "      <td>177.366667</td>\n",
              "    </tr>\n",
              "  </tbody>\n",
              "</table>\n",
              "</div>"
            ],
            "text/plain": [
              "               WBAN         ELEV    Latitude   Longitude\n",
              "count    161.000000   161.000000  161.000000  161.000000\n",
              "mean   33421.440994   439.850932   20.347205    8.364182\n",
              "std    20826.534394  1745.422339   21.042992   87.420419\n",
              "min    10001.000000     1.000000  -27.600000 -175.000000\n",
              "25%    13601.000000     9.000000    8.233333  -60.850000\n",
              "50%    32906.000000    27.000000   22.333333    9.083333\n",
              "75%    34150.000000    98.000000   36.116667   67.250000\n",
              "max    82506.000000  9999.000000   67.016667  177.366667"
            ]
          },
          "metadata": {
            "tags": []
          },
          "execution_count": 19
        }
      ]
    },
    {
      "metadata": {
        "id": "4RMUCBtw7gvV",
        "colab_type": "code",
        "colab": {
          "base_uri": "https://localhost:8080/",
          "height": 346
        },
        "outputId": "be8e3f32-4779-4c25-ee14-d3a5d1291ee0"
      },
      "cell_type": "code",
      "source": [
        "w.describe()"
      ],
      "execution_count": 20,
      "outputs": [
        {
          "output_type": "execute_result",
          "data": {
            "text/html": [
              "<div>\n",
              "<style scoped>\n",
              "    .dataframe tbody tr th:only-of-type {\n",
              "        vertical-align: middle;\n",
              "    }\n",
              "\n",
              "    .dataframe tbody tr th {\n",
              "        vertical-align: top;\n",
              "    }\n",
              "\n",
              "    .dataframe thead th {\n",
              "        text-align: right;\n",
              "    }\n",
              "</style>\n",
              "<table border=\"1\" class=\"dataframe\">\n",
              "  <thead>\n",
              "    <tr style=\"text-align: right;\">\n",
              "      <th></th>\n",
              "      <th>STA</th>\n",
              "      <th>WindGustSpd</th>\n",
              "      <th>MaxTemp</th>\n",
              "      <th>MinTemp</th>\n",
              "      <th>MeanTemp</th>\n",
              "      <th>YR</th>\n",
              "      <th>MO</th>\n",
              "      <th>DA</th>\n",
              "      <th>DR</th>\n",
              "      <th>SPD</th>\n",
              "      <th>...</th>\n",
              "      <th>FT</th>\n",
              "      <th>FB</th>\n",
              "      <th>FTI</th>\n",
              "      <th>ITH</th>\n",
              "      <th>PGT</th>\n",
              "      <th>SD3</th>\n",
              "      <th>RHX</th>\n",
              "      <th>RHN</th>\n",
              "      <th>RVG</th>\n",
              "      <th>WTE</th>\n",
              "    </tr>\n",
              "  </thead>\n",
              "  <tbody>\n",
              "    <tr>\n",
              "      <th>count</th>\n",
              "      <td>119040.000000</td>\n",
              "      <td>532.000000</td>\n",
              "      <td>119040.000000</td>\n",
              "      <td>119040.000000</td>\n",
              "      <td>119040.000000</td>\n",
              "      <td>119040.000000</td>\n",
              "      <td>119040.000000</td>\n",
              "      <td>119040.000000</td>\n",
              "      <td>533.000000</td>\n",
              "      <td>532.000000</td>\n",
              "      <td>...</td>\n",
              "      <td>0.0</td>\n",
              "      <td>0.0</td>\n",
              "      <td>0.0</td>\n",
              "      <td>0.0</td>\n",
              "      <td>525.000000</td>\n",
              "      <td>0.0</td>\n",
              "      <td>0.0</td>\n",
              "      <td>0.0</td>\n",
              "      <td>0.0</td>\n",
              "      <td>0.0</td>\n",
              "    </tr>\n",
              "    <tr>\n",
              "      <th>mean</th>\n",
              "      <td>29659.435795</td>\n",
              "      <td>37.774534</td>\n",
              "      <td>27.045111</td>\n",
              "      <td>17.789511</td>\n",
              "      <td>22.411631</td>\n",
              "      <td>43.805284</td>\n",
              "      <td>6.726016</td>\n",
              "      <td>15.797530</td>\n",
              "      <td>26.998124</td>\n",
              "      <td>20.396617</td>\n",
              "      <td>...</td>\n",
              "      <td>NaN</td>\n",
              "      <td>NaN</td>\n",
              "      <td>NaN</td>\n",
              "      <td>NaN</td>\n",
              "      <td>12.085333</td>\n",
              "      <td>NaN</td>\n",
              "      <td>NaN</td>\n",
              "      <td>NaN</td>\n",
              "      <td>NaN</td>\n",
              "      <td>NaN</td>\n",
              "    </tr>\n",
              "    <tr>\n",
              "      <th>std</th>\n",
              "      <td>20953.209402</td>\n",
              "      <td>10.297808</td>\n",
              "      <td>8.717817</td>\n",
              "      <td>8.334572</td>\n",
              "      <td>8.297982</td>\n",
              "      <td>1.136718</td>\n",
              "      <td>3.425561</td>\n",
              "      <td>8.794541</td>\n",
              "      <td>15.221732</td>\n",
              "      <td>5.560371</td>\n",
              "      <td>...</td>\n",
              "      <td>NaN</td>\n",
              "      <td>NaN</td>\n",
              "      <td>NaN</td>\n",
              "      <td>NaN</td>\n",
              "      <td>5.731328</td>\n",
              "      <td>NaN</td>\n",
              "      <td>NaN</td>\n",
              "      <td>NaN</td>\n",
              "      <td>NaN</td>\n",
              "      <td>NaN</td>\n",
              "    </tr>\n",
              "    <tr>\n",
              "      <th>min</th>\n",
              "      <td>10001.000000</td>\n",
              "      <td>18.520000</td>\n",
              "      <td>-33.333333</td>\n",
              "      <td>-38.333333</td>\n",
              "      <td>-35.555556</td>\n",
              "      <td>40.000000</td>\n",
              "      <td>1.000000</td>\n",
              "      <td>1.000000</td>\n",
              "      <td>2.000000</td>\n",
              "      <td>10.000000</td>\n",
              "      <td>...</td>\n",
              "      <td>NaN</td>\n",
              "      <td>NaN</td>\n",
              "      <td>NaN</td>\n",
              "      <td>NaN</td>\n",
              "      <td>0.000000</td>\n",
              "      <td>NaN</td>\n",
              "      <td>NaN</td>\n",
              "      <td>NaN</td>\n",
              "      <td>NaN</td>\n",
              "      <td>NaN</td>\n",
              "    </tr>\n",
              "    <tr>\n",
              "      <th>25%</th>\n",
              "      <td>11801.000000</td>\n",
              "      <td>29.632000</td>\n",
              "      <td>25.555556</td>\n",
              "      <td>15.000000</td>\n",
              "      <td>20.555556</td>\n",
              "      <td>43.000000</td>\n",
              "      <td>4.000000</td>\n",
              "      <td>8.000000</td>\n",
              "      <td>11.000000</td>\n",
              "      <td>16.000000</td>\n",
              "      <td>...</td>\n",
              "      <td>NaN</td>\n",
              "      <td>NaN</td>\n",
              "      <td>NaN</td>\n",
              "      <td>NaN</td>\n",
              "      <td>8.500000</td>\n",
              "      <td>NaN</td>\n",
              "      <td>NaN</td>\n",
              "      <td>NaN</td>\n",
              "      <td>NaN</td>\n",
              "      <td>NaN</td>\n",
              "    </tr>\n",
              "    <tr>\n",
              "      <th>50%</th>\n",
              "      <td>22508.000000</td>\n",
              "      <td>37.040000</td>\n",
              "      <td>29.444444</td>\n",
              "      <td>21.111111</td>\n",
              "      <td>25.555556</td>\n",
              "      <td>44.000000</td>\n",
              "      <td>7.000000</td>\n",
              "      <td>16.000000</td>\n",
              "      <td>32.000000</td>\n",
              "      <td>20.000000</td>\n",
              "      <td>...</td>\n",
              "      <td>NaN</td>\n",
              "      <td>NaN</td>\n",
              "      <td>NaN</td>\n",
              "      <td>NaN</td>\n",
              "      <td>11.600000</td>\n",
              "      <td>NaN</td>\n",
              "      <td>NaN</td>\n",
              "      <td>NaN</td>\n",
              "      <td>NaN</td>\n",
              "      <td>NaN</td>\n",
              "    </tr>\n",
              "    <tr>\n",
              "      <th>75%</th>\n",
              "      <td>33501.000000</td>\n",
              "      <td>43.059000</td>\n",
              "      <td>31.666667</td>\n",
              "      <td>23.333333</td>\n",
              "      <td>27.222222</td>\n",
              "      <td>45.000000</td>\n",
              "      <td>10.000000</td>\n",
              "      <td>23.000000</td>\n",
              "      <td>34.000000</td>\n",
              "      <td>23.250000</td>\n",
              "      <td>...</td>\n",
              "      <td>NaN</td>\n",
              "      <td>NaN</td>\n",
              "      <td>NaN</td>\n",
              "      <td>NaN</td>\n",
              "      <td>15.000000</td>\n",
              "      <td>NaN</td>\n",
              "      <td>NaN</td>\n",
              "      <td>NaN</td>\n",
              "      <td>NaN</td>\n",
              "      <td>NaN</td>\n",
              "    </tr>\n",
              "    <tr>\n",
              "      <th>max</th>\n",
              "      <td>82506.000000</td>\n",
              "      <td>75.932000</td>\n",
              "      <td>50.000000</td>\n",
              "      <td>34.444444</td>\n",
              "      <td>40.000000</td>\n",
              "      <td>45.000000</td>\n",
              "      <td>12.000000</td>\n",
              "      <td>31.000000</td>\n",
              "      <td>78.000000</td>\n",
              "      <td>41.000000</td>\n",
              "      <td>...</td>\n",
              "      <td>NaN</td>\n",
              "      <td>NaN</td>\n",
              "      <td>NaN</td>\n",
              "      <td>NaN</td>\n",
              "      <td>23.900000</td>\n",
              "      <td>NaN</td>\n",
              "      <td>NaN</td>\n",
              "      <td>NaN</td>\n",
              "      <td>NaN</td>\n",
              "      <td>NaN</td>\n",
              "    </tr>\n",
              "  </tbody>\n",
              "</table>\n",
              "<p>8 rows × 24 columns</p>\n",
              "</div>"
            ],
            "text/plain": [
              "                 STA  WindGustSpd        MaxTemp        MinTemp  \\\n",
              "count  119040.000000   532.000000  119040.000000  119040.000000   \n",
              "mean    29659.435795    37.774534      27.045111      17.789511   \n",
              "std     20953.209402    10.297808       8.717817       8.334572   \n",
              "min     10001.000000    18.520000     -33.333333     -38.333333   \n",
              "25%     11801.000000    29.632000      25.555556      15.000000   \n",
              "50%     22508.000000    37.040000      29.444444      21.111111   \n",
              "75%     33501.000000    43.059000      31.666667      23.333333   \n",
              "max     82506.000000    75.932000      50.000000      34.444444   \n",
              "\n",
              "            MeanTemp             YR             MO             DA          DR  \\\n",
              "count  119040.000000  119040.000000  119040.000000  119040.000000  533.000000   \n",
              "mean       22.411631      43.805284       6.726016      15.797530   26.998124   \n",
              "std         8.297982       1.136718       3.425561       8.794541   15.221732   \n",
              "min       -35.555556      40.000000       1.000000       1.000000    2.000000   \n",
              "25%        20.555556      43.000000       4.000000       8.000000   11.000000   \n",
              "50%        25.555556      44.000000       7.000000      16.000000   32.000000   \n",
              "75%        27.222222      45.000000      10.000000      23.000000   34.000000   \n",
              "max        40.000000      45.000000      12.000000      31.000000   78.000000   \n",
              "\n",
              "              SPD ...    FT   FB  FTI  ITH         PGT  SD3  RHX  RHN  RVG  \\\n",
              "count  532.000000 ...   0.0  0.0  0.0  0.0  525.000000  0.0  0.0  0.0  0.0   \n",
              "mean    20.396617 ...   NaN  NaN  NaN  NaN   12.085333  NaN  NaN  NaN  NaN   \n",
              "std      5.560371 ...   NaN  NaN  NaN  NaN    5.731328  NaN  NaN  NaN  NaN   \n",
              "min     10.000000 ...   NaN  NaN  NaN  NaN    0.000000  NaN  NaN  NaN  NaN   \n",
              "25%     16.000000 ...   NaN  NaN  NaN  NaN    8.500000  NaN  NaN  NaN  NaN   \n",
              "50%     20.000000 ...   NaN  NaN  NaN  NaN   11.600000  NaN  NaN  NaN  NaN   \n",
              "75%     23.250000 ...   NaN  NaN  NaN  NaN   15.000000  NaN  NaN  NaN  NaN   \n",
              "max     41.000000 ...   NaN  NaN  NaN  NaN   23.900000  NaN  NaN  NaN  NaN   \n",
              "\n",
              "       WTE  \n",
              "count  0.0  \n",
              "mean   NaN  \n",
              "std    NaN  \n",
              "min    NaN  \n",
              "25%    NaN  \n",
              "50%    NaN  \n",
              "75%    NaN  \n",
              "max    NaN  \n",
              "\n",
              "[8 rows x 24 columns]"
            ]
          },
          "metadata": {
            "tags": []
          },
          "execution_count": 20
        }
      ]
    },
    {
      "metadata": {
        "id": "mJInBeMl7m9P",
        "colab_type": "code",
        "colab": {}
      },
      "cell_type": "code",
      "source": [
        "lat = s_l['Latitude']\n",
        "lon = s_l['Longitude']\n",
        "elev = s_l['ELEV']"
      ],
      "execution_count": 0,
      "outputs": []
    },
    {
      "metadata": {
        "id": "9g_wNDMY-3lM",
        "colab_type": "code",
        "colab": {}
      },
      "cell_type": "code",
      "source": [
        "import matplotlib\n",
        "import matplotlib.pyplot as plt\n",
        "import numpy as np\n",
        "import csv"
      ],
      "execution_count": 0,
      "outputs": []
    },
    {
      "metadata": {
        "id": "RMp5iZAwEEUp",
        "colab_type": "code",
        "colab": {
          "base_uri": "https://localhost:8080/",
          "height": 153
        },
        "outputId": "83363ccb-0696-4a2e-c856-bc3793d20df3"
      },
      "cell_type": "code",
      "source": [
        "!pip install plotly\n"
      ],
      "execution_count": 23,
      "outputs": [
        {
          "output_type": "stream",
          "text": [
            "Requirement already satisfied: plotly in /usr/local/lib/python3.6/dist-packages (1.12.12)\n",
            "Requirement already satisfied: requests in /usr/local/lib/python3.6/dist-packages (from plotly) (2.18.4)\n",
            "Requirement already satisfied: six in /usr/local/lib/python3.6/dist-packages (from plotly) (1.11.0)\n",
            "Requirement already satisfied: pytz in /usr/local/lib/python3.6/dist-packages (from plotly) (2018.5)\n",
            "Requirement already satisfied: idna<2.7,>=2.5 in /usr/local/lib/python3.6/dist-packages (from requests->plotly) (2.6)\n",
            "Requirement already satisfied: chardet<3.1.0,>=3.0.2 in /usr/local/lib/python3.6/dist-packages (from requests->plotly) (3.0.4)\n",
            "Requirement already satisfied: urllib3<1.23,>=1.21.1 in /usr/local/lib/python3.6/dist-packages (from requests->plotly) (1.22)\n",
            "Requirement already satisfied: certifi>=2017.4.17 in /usr/local/lib/python3.6/dist-packages (from requests->plotly) (2018.8.24)\n"
          ],
          "name": "stdout"
        }
      ]
    },
    {
      "metadata": {
        "id": "PZrgDyzpmoRe",
        "colab_type": "code",
        "colab": {}
      },
      "cell_type": "code",
      "source": [
        "name = s_l['NAME']\n",
        "name"
      ],
      "execution_count": 0,
      "outputs": []
    },
    {
      "metadata": {
        "id": "nX9vgnJ78g-j",
        "colab_type": "code",
        "colab": {}
      },
      "cell_type": "code",
      "source": [
        "from IPython.display import display\n",
        "from IPython.core.display import HTML"
      ],
      "execution_count": 0,
      "outputs": []
    },
    {
      "metadata": {
        "id": "68UEl41a2zz9",
        "colab_type": "code",
        "colab": {
          "base_uri": "https://localhost:8080/",
          "height": 885
        },
        "outputId": "12c6876d-2b41-4092-a063-42bff4a574ac"
      },
      "cell_type": "code",
      "source": [
        "display(HTML(\"\"\"<div>\n",
        "    <a href=\"https://plot.ly/~yashwardhankaul/5/?share_key=3z3HdZaINKYrAvAP5Zmo2e\" target=\"_blank\" title=\"World War 2\" style=\"display: block; text-align: center;\"><img src=\"https://plot.ly/~yashwardhankaul/5.png?share_key=3z3HdZaINKYrAvAP5Zmo2e\" alt=\"World War 2\" style=\"max-width: 100%;width: 600px;\"  width=\"600\" onerror=\"this.onerror=null;this.src='https://plot.ly/404.png';\" /></a>\n",
        "    <script data-plotly=\"yashwardhankaul:5\" sharekey-plotly=\"3z3HdZaINKYrAvAP5Zmo2e\" src=\"https://plot.ly/embed.js\" async></script>\n",
        "</div>\n",
        "\"\"\"))"
      ],
      "execution_count": 129,
      "outputs": [
        {
          "output_type": "display_data",
          "data": {
            "text/html": [
              "<div>\n",
              "    <a href=\"https://plot.ly/~yashwardhankaul/5/?share_key=3z3HdZaINKYrAvAP5Zmo2e\" target=\"_blank\" title=\"World War 2\" style=\"display: block; text-align: center;\"><img src=\"https://plot.ly/~yashwardhankaul/5.png?share_key=3z3HdZaINKYrAvAP5Zmo2e\" alt=\"World War 2\" style=\"max-width: 100%;width: 600px;\"  width=\"600\" onerror=\"this.onerror=null;this.src='https://plot.ly/404.png';\" /></a>\n",
              "    <script data-plotly=\"yashwardhankaul:5\" sharekey-plotly=\"3z3HdZaINKYrAvAP5Zmo2e\" src=\"https://plot.ly/embed.js\" async></script>\n",
              "</div>\n"
            ],
            "text/plain": [
              "<IPython.core.display.HTML object>"
            ]
          },
          "metadata": {
            "tags": []
          }
        }
      ]
    }
  ]
}